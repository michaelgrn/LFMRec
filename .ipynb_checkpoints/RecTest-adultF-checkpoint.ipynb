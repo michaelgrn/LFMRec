{
 "cells": [
  {
   "cell_type": "code",
   "execution_count": 3,
   "metadata": {},
   "outputs": [],
   "source": [
    "import pickle\n",
    "import pandas as pd\n",
    "\n",
    "ratings = pickle.load( open( \"saveAdultsF.p\", \"rb\" ) )\n"
   ]
  },
  {
   "cell_type": "code",
   "execution_count": 4,
   "metadata": {},
   "outputs": [
    {
     "data": {
      "text/html": [
       "<div>\n",
       "<style scoped>\n",
       "    .dataframe tbody tr th:only-of-type {\n",
       "        vertical-align: middle;\n",
       "    }\n",
       "\n",
       "    .dataframe tbody tr th {\n",
       "        vertical-align: top;\n",
       "    }\n",
       "\n",
       "    .dataframe thead th {\n",
       "        text-align: right;\n",
       "    }\n",
       "</style>\n",
       "<table border=\"1\" class=\"dataframe\">\n",
       "  <thead>\n",
       "    <tr style=\"text-align: right;\">\n",
       "      <th></th>\n",
       "      <th>user</th>\n",
       "      <th>item</th>\n",
       "      <th>rating</th>\n",
       "    </tr>\n",
       "  </thead>\n",
       "  <tbody>\n",
       "    <tr>\n",
       "      <th>0</th>\n",
       "      <td>0</td>\n",
       "      <td>0</td>\n",
       "      <td>164.0</td>\n",
       "    </tr>\n",
       "    <tr>\n",
       "      <th>1</th>\n",
       "      <td>0</td>\n",
       "      <td>2</td>\n",
       "      <td>3.0</td>\n",
       "    </tr>\n",
       "    <tr>\n",
       "      <th>2</th>\n",
       "      <td>0</td>\n",
       "      <td>7</td>\n",
       "      <td>133.0</td>\n",
       "    </tr>\n",
       "    <tr>\n",
       "      <th>3</th>\n",
       "      <td>0</td>\n",
       "      <td>12</td>\n",
       "      <td>2.0</td>\n",
       "    </tr>\n",
       "    <tr>\n",
       "      <th>4</th>\n",
       "      <td>0</td>\n",
       "      <td>15</td>\n",
       "      <td>335.0</td>\n",
       "    </tr>\n",
       "  </tbody>\n",
       "</table>\n",
       "</div>"
      ],
      "text/plain": [
       "   user  item  rating\n",
       "0     0     0   164.0\n",
       "1     0     2     3.0\n",
       "2     0     7   133.0\n",
       "3     0    12     2.0\n",
       "4     0    15   335.0"
      ]
     },
     "execution_count": 4,
     "metadata": {},
     "output_type": "execute_result"
    }
   ],
   "source": [
    "ratingsPD = pd.DataFrame(ratings, columns=['user', 'item', 'rating'] )\n",
    "ratingsPD.head()"
   ]
  },
  {
   "cell_type": "code",
   "execution_count": 5,
   "metadata": {},
   "outputs": [],
   "source": [
    "from sklearn import preprocessing\n",
    "from sklearn.preprocessing import MinMaxScaler\n",
    "scaler = preprocessing.MinMaxScaler([1,5])\n",
    "def fx(x):\n",
    "    data = preprocessing.scale(x['rating'].to_numpy().reshape(-1, 1))\n",
    "    scaler.fit(data)\n",
    "    data=scaler.transform(data)\n",
    "    x['rating']=data\n",
    "    return x\n",
    "ratingsPD = ratingsPD.groupby('user').apply(fx)"
   ]
  },
  {
   "cell_type": "code",
   "execution_count": 6,
   "metadata": {},
   "outputs": [],
   "source": [
    "ratingsPD1= ratingsPD.groupby('user').filter(lambda x : len(x)>25)\n",
    "ratingsPD2 = ratingsPD1.groupby('item').filter(lambda x : len(x)>3)\n",
    "ratings = ratingsPD2"
   ]
  },
  {
   "cell_type": "code",
   "execution_count": 7,
   "metadata": {},
   "outputs": [
    {
     "data": {
      "text/plain": [
       "5178994"
      ]
     },
     "execution_count": 7,
     "metadata": {},
     "output_type": "execute_result"
    }
   ],
   "source": [
    "len(ratings)"
   ]
  },
  {
   "cell_type": "code",
   "execution_count": 8,
   "metadata": {},
   "outputs": [
    {
     "data": {
      "text/plain": [
       "146658"
      ]
     },
     "execution_count": 8,
     "metadata": {},
     "output_type": "execute_result"
    }
   ],
   "source": [
    "ratings['item'].nunique()"
   ]
  },
  {
   "cell_type": "code",
   "execution_count": 9,
   "metadata": {},
   "outputs": [
    {
     "data": {
      "text/plain": [
       "8711"
      ]
     },
     "execution_count": 9,
     "metadata": {},
     "output_type": "execute_result"
    }
   ],
   "source": [
    "ratings['user'].nunique()"
   ]
  },
  {
   "cell_type": "code",
   "execution_count": 10,
   "metadata": {},
   "outputs": [
    {
     "name": "stdout",
     "output_type": "stream",
     "text": [
      "0\n",
      "0.3331761712972463\n",
      "0\n",
      "0.34610135048491036\n",
      "0\n",
      "0.34042403319973097\n",
      "4\n",
      "0.3427298344528811\n",
      "4\n",
      "0.34763273548318846\n",
      "Average RMSE: 0.3420128249835915\n"
     ]
    }
   ],
   "source": [
    "import lenskit\n",
    "from lenskit.algorithms.basic import Bias\n",
    "from lenskit.metrics.predict import rmse\n",
    "\n",
    "from lenskit import batch, topn, util\n",
    "from lenskit import crossfold as xf\n",
    "from lenskit.algorithms import Recommender, als, item_knn as knn, user_knn as uknn, funksvd\n",
    "from lenskit.algorithms.basic import Fallback\n",
    "from lenskit import topn\n",
    "from lenskit.algorithms.basic import Bias\n",
    "\n",
    "rm = 0\n",
    "\n",
    "for train, test in xf.partition_users(ratings[['user', 'item', 'rating']], 5, xf.SampleFrac(0.3)):\n",
    "    pred = als.BiasedMF(45)\n",
    "    #rec = Recommender.adapt(pred)\n",
    "    pred.fit(train)\n",
    "    preds = batch.predict(pred, test)\n",
    "    print(preds['prediction'].isna().sum())\n",
    "    print((rmse(preds['prediction'], preds['rating'],missing ='ignore')))\n",
    "    rm+= (rmse(preds['prediction'], preds['rating'],missing ='ignore'))\n",
    "print(\"Average RMSE: \" + str(rm/5))\n"
   ]
  },
  {
   "cell_type": "code",
   "execution_count": null,
   "metadata": {},
   "outputs": [],
   "source": [
    "import lenskit\n",
    "from lenskit.algorithms.basic import Bias\n",
    "from lenskit.metrics.predict import rmse\n",
    "\n",
    "from lenskit import batch, topn, util\n",
    "from lenskit import crossfold as xf\n",
    "from lenskit.algorithms import Recommender, als, item_knn as knn, user_knn as uknn, funksvd\n",
    "from lenskit.algorithms.basic import Fallback\n",
    "from lenskit import topn\n",
    "from lenskit.algorithms.basic import Bias\n",
    "\n",
    "for train, test in xf.partition_users(ratings[['user', 'item', 'rating']], 5, xf.SampleFrac(0.3)):\n",
    "    pred = als.ImplicitMF(45)\n",
    "    #rec = Recommender.adapt(pred)\n",
    "    pred.fit(train)\n",
    "    preds = batch.predict(pred, test)\n",
    "    print(preds['prediction'].isna().sum())\n",
    "    print((rmse(preds['prediction'], preds['rating'],missing ='ignore')))\n"
   ]
  }
 ],
 "metadata": {
  "kernelspec": {
   "display_name": "Python 3",
   "language": "python",
   "name": "python3"
  },
  "language_info": {
   "codemirror_mode": {
    "name": "ipython",
    "version": 3
   },
   "file_extension": ".py",
   "mimetype": "text/x-python",
   "name": "python",
   "nbconvert_exporter": "python",
   "pygments_lexer": "ipython3",
   "version": "3.7.1"
  }
 },
 "nbformat": 4,
 "nbformat_minor": 2
}
