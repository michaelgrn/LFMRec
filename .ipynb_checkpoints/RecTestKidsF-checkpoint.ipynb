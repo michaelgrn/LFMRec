{
 "cells": [
  {
   "cell_type": "code",
   "execution_count": 1,
   "metadata": {},
   "outputs": [],
   "source": [
    "import pickle\n",
    "import pandas as pd\n",
    "\n",
    "ratings = pickle.load( open( \"saveKidsF.p\", \"rb\" ) )\n"
   ]
  },
  {
   "cell_type": "code",
   "execution_count": 2,
   "metadata": {},
   "outputs": [
    {
     "data": {
      "text/html": [
       "<div>\n",
       "<style scoped>\n",
       "    .dataframe tbody tr th:only-of-type {\n",
       "        vertical-align: middle;\n",
       "    }\n",
       "\n",
       "    .dataframe tbody tr th {\n",
       "        vertical-align: top;\n",
       "    }\n",
       "\n",
       "    .dataframe thead th {\n",
       "        text-align: right;\n",
       "    }\n",
       "</style>\n",
       "<table border=\"1\" class=\"dataframe\">\n",
       "  <thead>\n",
       "    <tr style=\"text-align: right;\">\n",
       "      <th></th>\n",
       "      <th>user</th>\n",
       "      <th>item</th>\n",
       "      <th>rating</th>\n",
       "    </tr>\n",
       "  </thead>\n",
       "  <tbody>\n",
       "    <tr>\n",
       "      <th>0</th>\n",
       "      <td>0</td>\n",
       "      <td>2</td>\n",
       "      <td>56.0</td>\n",
       "    </tr>\n",
       "    <tr>\n",
       "      <th>1</th>\n",
       "      <td>0</td>\n",
       "      <td>10</td>\n",
       "      <td>5.0</td>\n",
       "    </tr>\n",
       "    <tr>\n",
       "      <th>2</th>\n",
       "      <td>0</td>\n",
       "      <td>15</td>\n",
       "      <td>3.0</td>\n",
       "    </tr>\n",
       "    <tr>\n",
       "      <th>3</th>\n",
       "      <td>0</td>\n",
       "      <td>26</td>\n",
       "      <td>14.0</td>\n",
       "    </tr>\n",
       "    <tr>\n",
       "      <th>4</th>\n",
       "      <td>0</td>\n",
       "      <td>31</td>\n",
       "      <td>2.0</td>\n",
       "    </tr>\n",
       "  </tbody>\n",
       "</table>\n",
       "</div>"
      ],
      "text/plain": [
       "   user  item  rating\n",
       "0     0     2    56.0\n",
       "1     0    10     5.0\n",
       "2     0    15     3.0\n",
       "3     0    26    14.0\n",
       "4     0    31     2.0"
      ]
     },
     "execution_count": 2,
     "metadata": {},
     "output_type": "execute_result"
    }
   ],
   "source": [
    "ratingsPD = pd.DataFrame(ratings, columns=['user', 'item', 'rating'] )\n",
    "ratingsPD.head()"
   ]
  },
  {
   "cell_type": "code",
   "execution_count": 3,
   "metadata": {},
   "outputs": [],
   "source": [
    "from sklearn import preprocessing\n",
    "from sklearn.preprocessing import MinMaxScaler\n",
    "scaler = preprocessing.MinMaxScaler([1,5])\n",
    "def fx(x):\n",
    "    data = preprocessing.scale(x['rating'].to_numpy().reshape(-1, 1))\n",
    "    scaler.fit(data)\n",
    "    data=scaler.transform(data)\n",
    "    x['rating']=data\n",
    "    return x\n",
    "ratingsPD = ratingsPD.groupby('user').apply(fx)"
   ]
  },
  {
   "cell_type": "code",
   "execution_count": null,
   "metadata": {},
   "outputs": [],
   "source": [
    "ratingsPD1= ratingsPD.groupby('user').filter(lambda x : len(x)>24)\n"
   ]
  },
  {
   "cell_type": "code",
   "execution_count": null,
   "metadata": {},
   "outputs": [],
   "source": [
    "ratingsPD2 = ratingsPD1.groupby('item').filter(lambda x : len(x)>3)"
   ]
  },
  {
   "cell_type": "code",
   "execution_count": null,
   "metadata": {},
   "outputs": [],
   "source": [
    "ratings =ratingsPD2"
   ]
  },
  {
   "cell_type": "code",
   "execution_count": null,
   "metadata": {},
   "outputs": [],
   "source": [
    "len(ratings)"
   ]
  },
  {
   "cell_type": "code",
   "execution_count": null,
   "metadata": {},
   "outputs": [],
   "source": [
    "ratings.groupby('user').count()"
   ]
  },
  {
   "cell_type": "code",
   "execution_count": null,
   "metadata": {},
   "outputs": [],
   "source": [
    "ratings['item'].nunique()"
   ]
  },
  {
   "cell_type": "code",
   "execution_count": null,
   "metadata": {},
   "outputs": [],
   "source": [
    "import lenskit\n",
    "from lenskit.algorithms.basic import Bias\n",
    "from lenskit.metrics.predict import rmse\n",
    "\n",
    "from lenskit import batch, topn, util\n",
    "from lenskit import crossfold as xf\n",
    "from lenskit.algorithms import Recommender, als, item_knn as knn, user_knn as uknn, funksvd\n",
    "from lenskit.algorithms.basic import Fallback\n",
    "from lenskit import topn\n",
    "from lenskit.algorithms.basic import Bias\n",
    "rm = 0\n",
    "for train, test in xf.partition_users(ratings[['user', 'item', 'rating']], 5,xf.SampleFrac(0.3)):\n",
    "    pred = als.BiasedMF(45)\n",
    "    #rec = Recommender.adapt(pred)\n",
    "    pred.fit(train)\n",
    "    preds = batch.predict(pred, test)\n",
    "    #print(preds['prediction'].isna().sum())\n",
    "    print((rmse(preds['prediction'], preds['rating'],missing ='ignore')))\n",
    "    rm+= (rmse(preds['prediction'], preds['rating'],missing ='ignore'))\n",
    "print(\"Average RMSE: \" + str(rm/5))\n"
   ]
  },
  {
   "cell_type": "code",
   "execution_count": null,
   "metadata": {},
   "outputs": [],
   "source": [
    "import lenskit\n",
    "from lenskit.algorithms.basic import Bias\n",
    "from lenskit.metrics.predict import rmse\n",
    "\n",
    "from lenskit import batch, topn, util\n",
    "from lenskit import crossfold as xf\n",
    "from lenskit.algorithms import Recommender, als, item_knn as knn, user_knn as uknn, funksvd\n",
    "from lenskit.algorithms.basic import Fallback\n",
    "from lenskit import topn\n",
    "from lenskit.algorithms.basic import Bias\n",
    "rm = 0\n",
    "for train, test in xf.partition_users(ratings[['user', 'item', 'rating']], 5,xf.SampleFrac(0.3)):\n",
    "    pred = als.ImplicitMF(45)\n",
    "    #rec = Recommender.adapt(pred)\n",
    "    pred.fit(train)\n",
    "    preds = batch.predict(pred, test)\n",
    "    #print(preds['prediction'].isna().sum())\n",
    "    print((rmse(preds['prediction'], preds['rating'],missing ='ignore')))\n",
    "    rm+= (rmse(preds['prediction'], preds['rating'],missing ='ignore'))\n",
    "print(\"Average RMSE: \" + str(rm/5))"
   ]
  },
  {
   "cell_type": "code",
   "execution_count": null,
   "metadata": {},
   "outputs": [],
   "source": []
  }
 ],
 "metadata": {
  "kernelspec": {
   "display_name": "Python 3",
   "language": "python",
   "name": "python3"
  },
  "language_info": {
   "codemirror_mode": {
    "name": "ipython",
    "version": 3
   },
   "file_extension": ".py",
   "mimetype": "text/x-python",
   "name": "python",
   "nbconvert_exporter": "python",
   "pygments_lexer": "ipython3",
   "version": "3.7.1"
  }
 },
 "nbformat": 4,
 "nbformat_minor": 2
}
