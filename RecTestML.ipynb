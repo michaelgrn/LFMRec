{
 "cells": [
  {
   "cell_type": "code",
   "execution_count": 1,
   "metadata": {},
   "outputs": [],
   "source": [
    "import pickle\n",
    "import pandas as pd\n",
    "\n",
    "ratings = pickle.load( open( \"saveAll.p\", \"rb\" ) )\n"
   ]
  },
  {
   "cell_type": "code",
   "execution_count": null,
   "metadata": {},
   "outputs": [],
   "source": [
    "ratingsPD = pd.DataFrame(ratings, columns=['user', 'item', 'rating'] )\n",
    "ratingsPD.head()"
   ]
  },
  {
   "cell_type": "code",
   "execution_count": null,
   "metadata": {},
   "outputs": [],
   "source": [
    "from sklearn import preprocessing\n",
    "from sklearn.preprocessing import MinMaxScaler\n",
    "scaler = preprocessing.MinMaxScaler([1,5])\n",
    "def fx(x):\n",
    "    data = preprocessing.scale(x['rating'].to_numpy().reshape(-1, 1))\n",
    "    scaler.fit(data)\n",
    "    data=scaler.transform(data)\n",
    "    x['rating']=data\n",
    "    return x\n",
    "ratingsPD = ratingsPD.groupby('user').apply(fx)"
   ]
  },
  {
   "cell_type": "code",
   "execution_count": null,
   "metadata": {},
   "outputs": [],
   "source": [
    "ratingsPD1= ratingsPD.groupby('user').filter(lambda x : len(x)>25)\n",
    "ratingsPD2 = ratingsPD1.groupby('item').filter(lambda x : len(x)>3)\n",
    "ratings = ratingsPD2"
   ]
  },
  {
   "cell_type": "code",
   "execution_count": null,
   "metadata": {},
   "outputs": [],
   "source": [
    "len(ratings)"
   ]
  },
  {
   "cell_type": "code",
   "execution_count": null,
   "metadata": {},
   "outputs": [],
   "source": [
    "ratings['item'].nunique()"
   ]
  },
  {
   "cell_type": "code",
   "execution_count": null,
   "metadata": {},
   "outputs": [],
   "source": [
    "ratings['user'].nunique()"
   ]
  },
  {
   "cell_type": "code",
   "execution_count": 10,
   "metadata": {},
   "outputs": [
    {
     "name": "stdout",
     "output_type": "stream",
     "text": [
      "0\n",
      "0.33308603563796746\n",
      "0\n",
      "0.33090071233699403\n",
      "0\n",
      "0.33492574233861877\n",
      "4\n",
      "0.3345198537603395\n",
      "0\n",
      "0.3319590372805881\n",
      "Average RMSE: 0.3330782762709016\n"
     ]
    }
   ],
   "source": [
    "import lenskit\n",
    "from lenskit.algorithms.basic import Bias\n",
    "from lenskit.metrics.predict import rmse\n",
    "\n",
    "from lenskit import batch, topn, util\n",
    "from lenskit import crossfold as xf\n",
    "from lenskit.algorithms import Recommender, als, item_knn as knn, user_knn as uknn, funksvd\n",
    "from lenskit.algorithms.basic import Fallback\n",
    "from lenskit import topn\n",
    "from lenskit.algorithms.basic import Bias\n",
    "\n",
    "rm = 0\n",
    "\n",
    "for train, test in xf.partition_users(ratings[['user', 'item', 'rating']], 5, xf.SampleFrac(0.2)):\n",
    "    pred = als.BiasedMF(45)\n",
    "    rec = Recommender.adapt(pred)\n",
    "    pred.fit(train)\n",
    "    preds = batch.predict(pred, test)\n",
    "    print(preds['prediction'].isna().sum())\n",
    "    print((rmse(preds['prediction'], preds['rating'],missing ='ignore')))\n",
    "    rm+= (rmse(preds['prediction'], preds['rating'],missing ='ignore'))\n",
    "print(\"Average RMSE: \" + str(rm/5))"
   ]
  },
  {
   "cell_type": "code",
   "execution_count": null,
   "metadata": {},
   "outputs": [],
   "source": [
    "import lenskit\n",
    "from lenskit.algorithms.basic import Bias\n",
    "from lenskit.metrics.predict import rmse\n",
    "\n",
    "from lenskit import batch, topn, util\n",
    "from lenskit import crossfold as xf\n",
    "from lenskit.algorithms import Recommender, als, item_knn as knn, user_knn as uknn, funksvd\n",
    "from lenskit.algorithms.basic import Fallback\n",
    "from lenskit import topn\n",
    "from lenskit.algorithms.basic import Bias\n",
    "\n",
    "for train, test in xf.partition_users(ratings[['user', 'item', 'rating']], 5, xf.SampleFrac(0.2)):\n",
    "    pred = als.BiasedMF(20)\n",
    "    base = Bias(damping=5)\n",
    "    #rec = Recommender.adapt(pred)\n",
    "    fall = Fallback(pred,base)\n",
    "    fall.fit(train)\n",
    "    preds = batch.predict(fall, test)\n",
    "    print(preds.head())\n",
    "    print((rmse(preds['prediction'], preds['rating'],missing ='ignore')))\n"
   ]
  },
  {
   "cell_type": "code",
   "execution_count": null,
   "metadata": {},
   "outputs": [],
   "source": []
  }
 ],
 "metadata": {
  "kernelspec": {
   "display_name": "Python 3",
   "language": "python",
   "name": "python3"
  },
  "language_info": {
   "codemirror_mode": {
    "name": "ipython",
    "version": 3
   },
   "file_extension": ".py",
   "mimetype": "text/x-python",
   "name": "python",
   "nbconvert_exporter": "python",
   "pygments_lexer": "ipython3",
   "version": "3.7.1"
  }
 },
 "nbformat": 4,
 "nbformat_minor": 2
}
