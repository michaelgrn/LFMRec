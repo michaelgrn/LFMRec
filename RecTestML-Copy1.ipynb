{
 "cells": [
  {
   "cell_type": "code",
   "execution_count": 1,
   "metadata": {},
   "outputs": [],
   "source": [
    "import pickle\n",
    "import pandas as pd\n",
    "\n",
    "ratings = pickle.load( open( \"saveAll.p\", \"rb\" ) )\n"
   ]
  },
  {
   "cell_type": "code",
   "execution_count": 2,
   "metadata": {},
   "outputs": [
    {
     "data": {
      "text/html": [
       "<div>\n",
       "<style scoped>\n",
       "    .dataframe tbody tr th:only-of-type {\n",
       "        vertical-align: middle;\n",
       "    }\n",
       "\n",
       "    .dataframe tbody tr th {\n",
       "        vertical-align: top;\n",
       "    }\n",
       "\n",
       "    .dataframe thead th {\n",
       "        text-align: right;\n",
       "    }\n",
       "</style>\n",
       "<table border=\"1\" class=\"dataframe\">\n",
       "  <thead>\n",
       "    <tr style=\"text-align: right;\">\n",
       "      <th></th>\n",
       "      <th>user</th>\n",
       "      <th>item</th>\n",
       "      <th>rating</th>\n",
       "    </tr>\n",
       "  </thead>\n",
       "  <tbody>\n",
       "    <tr>\n",
       "      <th>0</th>\n",
       "      <td>0</td>\n",
       "      <td>17</td>\n",
       "      <td>3.0</td>\n",
       "    </tr>\n",
       "    <tr>\n",
       "      <th>1</th>\n",
       "      <td>0</td>\n",
       "      <td>29</td>\n",
       "      <td>153.0</td>\n",
       "    </tr>\n",
       "    <tr>\n",
       "      <th>2</th>\n",
       "      <td>0</td>\n",
       "      <td>42</td>\n",
       "      <td>7.0</td>\n",
       "    </tr>\n",
       "    <tr>\n",
       "      <th>3</th>\n",
       "      <td>0</td>\n",
       "      <td>46</td>\n",
       "      <td>518.0</td>\n",
       "    </tr>\n",
       "    <tr>\n",
       "      <th>4</th>\n",
       "      <td>0</td>\n",
       "      <td>47</td>\n",
       "      <td>5.0</td>\n",
       "    </tr>\n",
       "  </tbody>\n",
       "</table>\n",
       "</div>"
      ],
      "text/plain": [
       "   user  item  rating\n",
       "0     0    17     3.0\n",
       "1     0    29   153.0\n",
       "2     0    42     7.0\n",
       "3     0    46   518.0\n",
       "4     0    47     5.0"
      ]
     },
     "execution_count": 2,
     "metadata": {},
     "output_type": "execute_result"
    }
   ],
   "source": [
    "ratingsPD = pd.DataFrame(ratings, columns=['user', 'item', 'rating'] )\n",
    "ratingsPD.head()"
   ]
  },
  {
   "cell_type": "code",
   "execution_count": 3,
   "metadata": {},
   "outputs": [],
   "source": [
    "from sklearn import preprocessing\n",
    "from sklearn.preprocessing import MinMaxScaler\n",
    "scaler = preprocessing.MinMaxScaler([1,5])\n",
    "def fx(x):\n",
    "    data = preprocessing.scale(x['rating'].to_numpy().reshape(-1, 1))\n",
    "    scaler.fit(data)\n",
    "    data=scaler.transform(data)\n",
    "    x['rating']=data\n",
    "    return x\n",
    "ratingsPD = ratingsPD.groupby('user').apply(fx)"
   ]
  },
  {
   "cell_type": "code",
   "execution_count": 4,
   "metadata": {},
   "outputs": [],
   "source": [
    "ratingsPD1= ratingsPD.groupby('user').filter(lambda x : len(x)>25)\n",
    "ratingsPD2 = ratingsPD1.groupby('item').filter(lambda x : len(x)>3)\n",
    "ratings = ratingsPD2"
   ]
  },
  {
   "cell_type": "code",
   "execution_count": 5,
   "metadata": {},
   "outputs": [
    {
     "data": {
      "text/plain": [
       "27265784"
      ]
     },
     "execution_count": 5,
     "metadata": {},
     "output_type": "execute_result"
    }
   ],
   "source": [
    "len(ratings)"
   ]
  },
  {
   "cell_type": "code",
   "execution_count": 6,
   "metadata": {},
   "outputs": [
    {
     "data": {
      "text/plain": [
       "428623"
      ]
     },
     "execution_count": 6,
     "metadata": {},
     "output_type": "execute_result"
    }
   ],
   "source": [
    "ratings['item'].nunique()"
   ]
  },
  {
   "cell_type": "code",
   "execution_count": 7,
   "metadata": {},
   "outputs": [
    {
     "data": {
      "text/plain": [
       "42345"
      ]
     },
     "execution_count": 7,
     "metadata": {},
     "output_type": "execute_result"
    }
   ],
   "source": [
    "ratings['user'].nunique()"
   ]
  },
  {
   "cell_type": "code",
   "execution_count": 8,
   "metadata": {},
   "outputs": [],
   "source": [
    "dbList = pickle.load( open( \"dbList.p\", \"rb\" ) )\n",
    "gmList = pickle.load( open( \"gmList.p\", \"rb\" ) )"
   ]
  },
  {
   "cell_type": "code",
   "execution_count": 9,
   "metadata": {},
   "outputs": [],
   "source": [
    "dbListTrue = ratings[ratings.user.isin(dbList)]\n",
    "\n",
    "ratingsPD1= dbListTrue.groupby('user').filter(lambda x : len(x)>25)\n",
    "ratingsPD2 = ratingsPD1.groupby('item').filter(lambda x : len(x)>3)\n",
    "dbListTrue = ratingsPD2\n",
    "\n",
    "dbListFalse = ratings[~ratings.user.isin(dbList)]\n",
    "\n",
    "ratingsPD1= dbListFalse.groupby('user').filter(lambda x : len(x)>25)\n",
    "ratingsPD2 = ratingsPD1.groupby('item').filter(lambda x : len(x)>3)\n",
    "dbListFalse = ratingsPD2"
   ]
  },
  {
   "cell_type": "code",
   "execution_count": 10,
   "metadata": {},
   "outputs": [
    {
     "name": "stdout",
     "output_type": "stream",
     "text": [
      "10062106\n",
      "223452\n",
      "19156\n"
     ]
    }
   ],
   "source": [
    "print(len(dbListTrue))\n",
    "print(dbListTrue['item'].nunique())\n",
    "print(dbListTrue['user'].nunique())"
   ]
  },
  {
   "cell_type": "code",
   "execution_count": 11,
   "metadata": {},
   "outputs": [
    {
     "name": "stdout",
     "output_type": "stream",
     "text": [
      "16573423\n",
      "319879\n",
      "23177\n"
     ]
    }
   ],
   "source": [
    "print(len(dbListFalse))\n",
    "print(dbListFalse['item'].nunique())\n",
    "print(dbListFalse['user'].nunique())"
   ]
  },
  {
   "cell_type": "code",
   "execution_count": 12,
   "metadata": {},
   "outputs": [],
   "source": [
    "gmListTrue = ratings[ratings.user.isin(gmList)]\n",
    "\n",
    "ratingsPD1= gmListTrue.groupby('user').filter(lambda x : len(x)>25)\n",
    "ratingsPD2 = ratingsPD1.groupby('item').filter(lambda x : len(x)>3)\n",
    "gmListTrue = ratingsPD2\n",
    "\n",
    "\n",
    "gmListFalse = ratings[~ratings.user.isin(gmList)]\n",
    "\n",
    "ratingsPD1= gmListFalse.groupby('user').filter(lambda x : len(x)>25)\n",
    "ratingsPD2 = ratingsPD1.groupby('item').filter(lambda x : len(x)>3)\n",
    "gmListFalse = ratingsPD2\n"
   ]
  },
  {
   "cell_type": "code",
   "execution_count": 13,
   "metadata": {},
   "outputs": [
    {
     "name": "stdout",
     "output_type": "stream",
     "text": [
      "13669615\n",
      "277539\n",
      "21692\n",
      "12940624\n",
      "271229\n",
      "20641\n"
     ]
    }
   ],
   "source": [
    "print(len(gmListTrue))\n",
    "print(gmListTrue['item'].nunique())\n",
    "print(gmListTrue['user'].nunique())\n",
    "\n",
    "print(len(gmListFalse))\n",
    "print(gmListFalse['item'].nunique())\n",
    "print(gmListFalse['user'].nunique())"
   ]
  },
  {
   "cell_type": "code",
   "execution_count": 14,
   "metadata": {},
   "outputs": [
    {
     "name": "stdout",
     "output_type": "stream",
     "text": [
      "0\n",
      "0.3583323242440946\n",
      "0\n",
      "0.3611357364516319\n",
      "0\n",
      "0.36216945732660405\n",
      "0\n",
      "0.36125636246376464\n",
      "0\n",
      "0.3576603446719361\n",
      "Average RMSE: 0.3601108450316063\n"
     ]
    }
   ],
   "source": [
    "import lenskit\n",
    "from lenskit.algorithms.basic import Bias\n",
    "from lenskit.metrics.predict import rmse\n",
    "\n",
    "from lenskit import batch, topn, util\n",
    "from lenskit import crossfold as xf\n",
    "from lenskit.algorithms import Recommender, als, item_knn as knn, user_knn as uknn, funksvd\n",
    "from lenskit.algorithms.basic import Fallback\n",
    "from lenskit import topn\n",
    "from lenskit.algorithms.basic import Bias\n",
    "\n",
    "rm = 0\n",
    "\n",
    "for train, test in xf.partition_users(dbListTrue[['user', 'item', 'rating']], 5, xf.SampleFrac(0.2)):\n",
    "    pred = als.BiasedMF(45)\n",
    "    rec = Recommender.adapt(pred)\n",
    "    pred.fit(train)\n",
    "    preds = batch.predict(pred, test)\n",
    "    print(preds['prediction'].isna().sum())\n",
    "    print((rmse(preds['prediction'], preds['rating'],missing ='ignore')))\n",
    "    rm+= (rmse(preds['prediction'], preds['rating'],missing ='ignore'))\n",
    "print(\"Average RMSE: \" + str(rm/5))"
   ]
  },
  {
   "cell_type": "code",
   "execution_count": 15,
   "metadata": {},
   "outputs": [
    {
     "name": "stdout",
     "output_type": "stream",
     "text": [
      "0\n",
      "0.32093097228662665\n",
      "0\n",
      "0.31833139351033385\n",
      "4\n",
      "0.32358213745418063\n",
      "0\n",
      "0.3200304142702558\n",
      "0\n",
      "0.323893409295474\n",
      "Average RMSE: 0.3213536653633742\n"
     ]
    }
   ],
   "source": [
    "import lenskit\n",
    "from lenskit.algorithms.basic import Bias\n",
    "from lenskit.metrics.predict import rmse\n",
    "\n",
    "from lenskit import batch, topn, util\n",
    "from lenskit import crossfold as xf\n",
    "from lenskit.algorithms import Recommender, als, item_knn as knn, user_knn as uknn, funksvd\n",
    "from lenskit.algorithms.basic import Fallback\n",
    "from lenskit import topn\n",
    "from lenskit.algorithms.basic import Bias\n",
    "\n",
    "rm = 0\n",
    "\n",
    "for train, test in xf.partition_users(dbListFalse[['user', 'item', 'rating']], 5, xf.SampleFrac(0.2)):\n",
    "    pred = als.BiasedMF(45)\n",
    "    rec = Recommender.adapt(pred)\n",
    "    pred.fit(train)\n",
    "    preds = batch.predict(pred, test)\n",
    "    print(preds['prediction'].isna().sum())\n",
    "    print((rmse(preds['prediction'], preds['rating'],missing ='ignore')))\n",
    "    rm+= (rmse(preds['prediction'], preds['rating'],missing ='ignore'))\n",
    "print(\"Average RMSE: \" + str(rm/5))"
   ]
  },
  {
   "cell_type": "code",
   "execution_count": 16,
   "metadata": {},
   "outputs": [
    {
     "name": "stdout",
     "output_type": "stream",
     "text": [
      "0\n",
      "0.33339428404281923\n",
      "0\n",
      "0.33751394285782443\n",
      "0\n",
      "0.334900870900089\n",
      "0\n",
      "0.3365649925522063\n",
      "0\n",
      "0.33320806271219067\n",
      "Average RMSE: 0.33511643061302593\n"
     ]
    }
   ],
   "source": [
    "import lenskit\n",
    "from lenskit.algorithms.basic import Bias\n",
    "from lenskit.metrics.predict import rmse\n",
    "\n",
    "from lenskit import batch, topn, util\n",
    "from lenskit import crossfold as xf\n",
    "from lenskit.algorithms import Recommender, als, item_knn as knn, user_knn as uknn, funksvd\n",
    "from lenskit.algorithms.basic import Fallback\n",
    "from lenskit import topn\n",
    "from lenskit.algorithms.basic import Bias\n",
    "\n",
    "rm = 0\n",
    "\n",
    "for train, test in xf.partition_users(gmListTrue[['user', 'item', 'rating']], 5, xf.SampleFrac(0.2)):\n",
    "    pred = als.BiasedMF(45)\n",
    "    rec = Recommender.adapt(pred)\n",
    "    pred.fit(train)\n",
    "    preds = batch.predict(pred, test)\n",
    "    print(preds['prediction'].isna().sum())\n",
    "    print((rmse(preds['prediction'], preds['rating'],missing ='ignore')))\n",
    "    rm+= (rmse(preds['prediction'], preds['rating'],missing ='ignore'))\n",
    "print(\"Average RMSE: \" + str(rm/5))"
   ]
  },
  {
   "cell_type": "code",
   "execution_count": 17,
   "metadata": {},
   "outputs": [
    {
     "name": "stdout",
     "output_type": "stream",
     "text": [
      "0\n",
      "0.3405501059414405\n",
      "0\n",
      "0.33261085136466806\n",
      "0\n",
      "0.335085928401816\n",
      "0\n",
      "0.3330279658932597\n",
      "0\n",
      "0.33428438401825444\n",
      "Average RMSE: 0.33511184712388775\n"
     ]
    }
   ],
   "source": [
    "import lenskit\n",
    "from lenskit.algorithms.basic import Bias\n",
    "from lenskit.metrics.predict import rmse\n",
    "\n",
    "from lenskit import batch, topn, util\n",
    "from lenskit import crossfold as xf\n",
    "from lenskit.algorithms import Recommender, als, item_knn as knn, user_knn as uknn, funksvd\n",
    "from lenskit.algorithms.basic import Fallback\n",
    "from lenskit import topn\n",
    "from lenskit.algorithms.basic import Bias\n",
    "\n",
    "rm = 0\n",
    "\n",
    "for train, test in xf.partition_users(gmListFalse[['user', 'item', 'rating']], 5, xf.SampleFrac(0.2)):\n",
    "    pred = als.BiasedMF(45)\n",
    "    rec = Recommender.adapt(pred)\n",
    "    pred.fit(train)\n",
    "    preds = batch.predict(pred, test)\n",
    "    print(preds['prediction'].isna().sum())\n",
    "    print((rmse(preds['prediction'], preds['rating'],missing ='ignore')))\n",
    "    rm+= (rmse(preds['prediction'], preds['rating'],missing ='ignore'))\n",
    "print(\"Average RMSE: \" + str(rm/5))"
   ]
  },
  {
   "cell_type": "code",
   "execution_count": null,
   "metadata": {},
   "outputs": [],
   "source": []
  }
 ],
 "metadata": {
  "kernelspec": {
   "display_name": "Python 3",
   "language": "python",
   "name": "python3"
  },
  "language_info": {
   "codemirror_mode": {
    "name": "ipython",
    "version": 3
   },
   "file_extension": ".py",
   "mimetype": "text/x-python",
   "name": "python",
   "nbconvert_exporter": "python",
   "pygments_lexer": "ipython3",
   "version": "3.7.1"
  }
 },
 "nbformat": 4,
 "nbformat_minor": 2
}
