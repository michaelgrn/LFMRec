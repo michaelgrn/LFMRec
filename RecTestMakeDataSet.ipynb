{
 "cells": [
  {
   "cell_type": "code",
   "execution_count": 11,
   "metadata": {},
   "outputs": [],
   "source": [
    "import scipy.sparse\n",
    "sparse_matrix = scipy.sparse.load_npz('kidsUS_matrix.npz')"
   ]
  },
  {
   "cell_type": "code",
   "execution_count": 12,
   "metadata": {},
   "outputs": [],
   "source": [
    "entries = []\n",
    "for entry in sparse_matrix:\n",
    "    entries.append(entry)"
   ]
  },
  {
   "cell_type": "code",
   "execution_count": null,
   "metadata": {},
   "outputs": [],
   "source": []
  },
  {
   "cell_type": "code",
   "execution_count": 13,
   "metadata": {},
   "outputs": [
    {
     "name": "stderr",
     "output_type": "stream",
     "text": [
      "  2%|▏         | 630/28000 [03:13<2:15:53,  3.36it/s]\n"
     ]
    }
   ],
   "source": [
    "ratings = []\n",
    "userID = 0\n",
    "itemNum = 0\n",
    "from tqdm import tqdm\n",
    "from time import sleep\n",
    "with tqdm(total=28000) as pbar:\n",
    "    for sm in entries:\n",
    "        itemNum = 0\n",
    "        ndarray = sm.toarray()\n",
    "        #listOflist = ndarray.tolist()\n",
    "        for entry in ndarray:\n",
    "            for entr in entry:\n",
    "                #print(entr)\n",
    "                if entr > 0:\n",
    "                    ratings.append([userID,itemNum,entr])\n",
    "                itemNum +=1 \n",
    "        userID += 1\n",
    "        pbar.update(1)"
   ]
  },
  {
   "cell_type": "code",
   "execution_count": 14,
   "metadata": {},
   "outputs": [],
   "source": [
    "import pickle\n",
    "pickle.dump( ratings, open( \"saveUS.p\", \"wb\" ) )\n"
   ]
  },
  {
   "cell_type": "code",
   "execution_count": null,
   "metadata": {},
   "outputs": [],
   "source": []
  }
 ],
 "metadata": {
  "kernelspec": {
   "display_name": "Python 3",
   "language": "python",
   "name": "python3"
  },
  "language_info": {
   "codemirror_mode": {
    "name": "ipython",
    "version": 3
   },
   "file_extension": ".py",
   "mimetype": "text/x-python",
   "name": "python",
   "nbconvert_exporter": "python",
   "pygments_lexer": "ipython3",
   "version": "3.7.1"
  }
 },
 "nbformat": 4,
 "nbformat_minor": 2
}
